{
 "cells": [
  {
   "cell_type": "markdown",
   "metadata": {
    "id": "KJqp9AANOCtf"
   },
   "source": [
    "<img src=\"https://raw.githubusercontent.com/andre-marcos-perez/ebac-course-utils/main/media/logo/newebac_logo_black_half.png\" alt=\"ebac-logo\">\n",
    "\n",
    "---\n",
    "\n",
    "# **Aula** | Análise Exploratória de Dados com Python: Eleições de 2022\n",
    "Professor [André Perez](https://www.linkedin.com/in/andremarcosperez/)<br>\n",
    "01/12/2022\n",
    "\n",
    "---"
   ]
  },
  {
   "cell_type": "markdown",
   "metadata": {
    "id": "d9jDtUbDOE1-"
   },
   "source": [
    "# **Tópicos**\n",
    "\n",
    "<ol type=\"1\">\n",
    "  <li>Introdução;</li>\n",
    "  <li>Exploração;</li>\n",
    "  <li>Processamento;</li>\n",
    "  <li>Visualização;</li>\n",
    "  <li>Divulgação.</li>\n",
    "</ol>"
   ]
  },
  {
   "cell_type": "markdown",
   "metadata": {
    "id": "SmoHgt-lwkpD"
   },
   "source": [
    "---"
   ]
  },
  {
   "cell_type": "markdown",
   "metadata": {
    "id": "GABI6OW8OfQ2"
   },
   "source": [
    "# **Aulas**"
   ]
  },
  {
   "cell_type": "markdown",
   "metadata": {
    "id": "-Rig-cljwJdi"
   },
   "source": [
    "## 1\\. Introdução"
   ]
  },
  {
   "cell_type": "markdown",
   "metadata": {
    "id": "lNGqwyhiE1vq"
   },
   "source": [
    "Nesta aula, vamos entender o contexto de negócio que estamos inseridos e aprender a utilizar o Google Colab."
   ]
  },
  {
   "cell_type": "markdown",
   "metadata": {
    "id": "Ay4UkojwGskg"
   },
   "source": [
    "### **1.1. Contexto** "
   ]
  },
  {
   "cell_type": "markdown",
   "metadata": {
    "id": "JUonSt7kxZyj"
   },
   "source": [
    "O tribunal superior eleitoral (TSE) disponibilizou os dados brutos das urnas de votação utilizadas durante o processo eleitoral de 2022. No site do TSE ([link](https://resultados.tse.jus.br/oficial/app/index.html#/eleicao/resultados)) encontra-se os seguintes dados para cada urna:"
   ]
  },
  {
   "cell_type": "markdown",
   "metadata": {
    "id": "M5K99BBs9C1Q"
   },
   "source": [
    " - **Registro Digital do Voto (RDV)**: Registro unitário dos votos;\n",
    " - **Boletim de Urna**: Resultados agregados;\n",
    " - **Log de Urna**: Todos os eventos que ocorreram na urna."
   ]
  },
  {
   "cell_type": "markdown",
   "metadata": {
    "id": "KIzpIja__Xob"
   },
   "source": [
    "A documentação técnica para o processamento dos arquivo também se encontra no website do TSE ([link](https://www.tse.jus.br/eleicoes/eleicoes-2022/documentacao-tecnica-do-software-da-urna-eletronica))."
   ]
  },
  {
   "cell_type": "markdown",
   "metadata": {
    "id": "19a6O3YOhlmq"
   },
   "source": [
    "> Para uma única urna (estado, cidade, zona e seção), vamos utilizar o **Python** para processar o seu arquivo **RDV** e replicar os valores agregados do seu **Boletim de Urna** para o segundo turno de votação para presidente do processo eleitoral de 2022."
   ]
  },
  {
   "cell_type": "markdown",
   "metadata": {
    "id": "muD1vxozykSC"
   },
   "source": [
    "### **1.2. Google Colab**"
   ]
  },
  {
   "cell_type": "markdown",
   "metadata": {
    "id": "xT1ohV3t0FQJ"
   },
   "source": [
    "> Ferramenta web autogerênciada de cadernos (*notebooks*)."
   ]
  },
  {
   "cell_type": "markdown",
   "metadata": {
    "id": "5a3_syBIP6yO"
   },
   "source": [
    "**Ferramenta web**"
   ]
  },
  {
   "cell_type": "markdown",
   "metadata": {
    "id": "xF1tFQyRQag2"
   },
   "source": [
    "\n",
    "\n",
    "*   Crie uma conta Google em [gmail.com](https://gmail.com);\n",
    "*   Acesse o Google Colab através do endereço [colab.research.google.com](https://colab.research.google.com/).\n",
    "\n",
    "\n"
   ]
  },
  {
   "cell_type": "markdown",
   "metadata": {
    "id": "VkIgtLmhQRDV"
   },
   "source": [
    "**Autogerênciada** "
   ]
  },
  {
   "cell_type": "markdown",
   "metadata": {
    "id": "P14BSbuH0SQB"
   },
   "source": [
    "\n",
    "\n",
    "*   A Google provisiona uma máquina virtual para você;\n",
    "*   A máquina virtual dura no máximo 12h.\n",
    "\n"
   ]
  },
  {
   "cell_type": "markdown",
   "metadata": {
    "id": "mIgaH380QG2e"
   },
   "source": [
    "**Cadernos (*notebooks*)** "
   ]
  },
  {
   "cell_type": "markdown",
   "metadata": {
    "id": "_4Q4H0RKm-4G"
   },
   "source": [
    "Um **caderno** é um documento *web* composto por um conjunto de elementos (células) de texto e código:\n",
    "\n",
    "\n",
    "*   Células de **texto** podem ser editados com o editor da ferramenta, HTML ou Markdown; \n",
    "*   Células de **código** são exclusivamente para a linguagem de programação Python.\n",
    "\n"
   ]
  },
  {
   "cell_type": "code",
   "execution_count": null,
   "metadata": {
    "id": "ILZGen4Ob_vC"
   },
   "outputs": [],
   "source": [
    "print(\"olá, mundo!\")"
   ]
  },
  {
   "cell_type": "markdown",
   "metadata": {
    "id": "EvJTE2FpaGeU"
   },
   "source": [
    "## 2\\. Exploração"
   ]
  },
  {
   "cell_type": "markdown",
   "metadata": {
    "id": "ISYXZbomlb1x"
   },
   "source": [
    "Nesta aula vamos explorar, limpar e extrair os votos do arquivo RDV."
   ]
  },
  {
   "cell_type": "markdown",
   "metadata": {
    "id": "DDpx-CqDoEMB"
   },
   "source": [
    "### **2.1. Upload** "
   ]
  },
  {
   "cell_type": "markdown",
   "metadata": {
    "id": "aY9hV7LkoEQv"
   },
   "source": [
    "No site de resultados do TSE ([link](https://resultados.tse.jus.br/oficial/app/index.html)), selecione os dados de uma única urna, faça o *download* do arquivo RDV e então, o seu *upload* no ambiente do Google Colab. "
   ]
  },
  {
   "cell_type": "markdown",
   "metadata": {
    "id": "8lvsCpnSoR0k"
   },
   "source": [
    "### **2.2. Descriptografia** "
   ]
  },
  {
   "cell_type": "markdown",
   "metadata": {
    "id": "ue3LBOvcap6Z"
   },
   "source": [
    "Vamos utilizar o código disponibilizado pelo próprio TSE ([link](https://www.tse.jus.br/eleicoes/eleicoes-2022/documentacao-tecnica-do-software-da-urna-eletronica)) para descriptografar o arquivo RDV em um arquivo de texto. O código foi replicado neste [link](https://raw.githubusercontent.com/andre-marcos-perez/ebac-course-utils/develop/notebooks/2022_11_29/rdv.py) para facilitar a sua integração com o Google Colab."
   ]
  },
  {
   "cell_type": "markdown",
   "metadata": {
    "id": "Y2XahMe2BMQM"
   },
   "source": [
    " - Faça o *download* do código de descriptografia."
   ]
  },
  {
   "cell_type": "code",
   "execution_count": null,
   "metadata": {
    "id": "bamgYxoFYPjM"
   },
   "outputs": [],
   "source": [
    "!curl -s https://raw.githubusercontent.com/andre-marcos-perez/ebac-course-utils/develop/notebooks/2022_11_29/rdv.py -o rdv.py"
   ]
  },
  {
   "cell_type": "markdown",
   "metadata": {
    "id": "UPbccDxhBXMo"
   },
   "source": [
    " - Instale o pacote de criptografia utilizado pelo código."
   ]
  },
  {
   "cell_type": "code",
   "execution_count": null,
   "metadata": {
    "id": "EQew9bbvZ4L2"
   },
   "outputs": [],
   "source": [
    "!pip install asn1crypto==1.5.1"
   ]
  },
  {
   "cell_type": "markdown",
   "metadata": {
    "id": "DgdhKNTsA9dc"
   },
   "source": [
    " - Substitua o texto `<NOME-DO-ARQUIVO-RDV>` pelo nome do arquivo RDV escolhido."
   ]
  },
  {
   "cell_type": "code",
   "execution_count": null,
   "metadata": {
    "id": "xHTxWEvyNd0y"
   },
   "outputs": [],
   "source": [
    "!python rdv.py -r o00407-6875600930300.rdv > rdv.txt"
   ]
  },
  {
   "cell_type": "markdown",
   "metadata": {
    "id": "5OFA-fmBohlJ"
   },
   "source": [
    "### **2.3. Limpeza** "
   ]
  },
  {
   "cell_type": "markdown",
   "metadata": {
    "id": "d4zw67ZOc-Cm"
   },
   "source": [
    "Na etapa de limpeza, vamos selecionar apenas as linhas do arquivo RDV referentes a votação para presidente."
   ]
  },
  {
   "cell_type": "code",
   "execution_count": null,
   "metadata": {
    "id": "TrBosvhCc-0W"
   },
   "outputs": [],
   "source": [
    "content = []\n",
    "\n",
    "with open(file=\"rdv.txt\", mode=\"r\") as fp:\n",
    "  for line in fp.readlines():\n",
    "    if \"Governador\" in line:\n",
    "      break\n",
    "    else:\n",
    "      content.append(line) "
   ]
  },
  {
   "cell_type": "code",
   "execution_count": null,
   "metadata": {
    "id": "HDTFc1M5grsT"
   },
   "outputs": [],
   "source": [
    "len(content)"
   ]
  },
  {
   "cell_type": "code",
   "execution_count": null,
   "metadata": {
    "id": "r0NNW-xhgjZ0"
   },
   "outputs": [],
   "source": [
    "for line in content[0:10]:\n",
    "  print(line)"
   ]
  },
  {
   "cell_type": "markdown",
   "metadata": {
    "id": "042WnMxQotAX"
   },
   "source": [
    "### **2.4. Extração** "
   ]
  },
  {
   "cell_type": "markdown",
   "metadata": {
    "id": "2QpIbXo6gkMY"
   },
   "source": [
    "Na etapa de extração, vamos extrair apenas os dados de votação."
   ]
  },
  {
   "cell_type": "code",
   "execution_count": null,
   "metadata": {
    "id": "OO99O3ubgh4J"
   },
   "outputs": [],
   "source": [
    "import re"
   ]
  },
  {
   "cell_type": "code",
   "execution_count": null,
   "metadata": {
    "id": "jpUIsVTkg5U1"
   },
   "outputs": [],
   "source": [
    "pattern = re.compile(pattern=\"\\[(.*?)\\]\")"
   ]
  },
  {
   "cell_type": "code",
   "execution_count": null,
   "metadata": {
    "id": "3yLyf43df-x1"
   },
   "outputs": [],
   "source": [
    "votes = []\n",
    "\n",
    "for line in content:\n",
    "\n",
    "  if \"branco\" in line:\n",
    "\n",
    "    votes.append({\"voto\": \"branco\", \"quantidade\": 1})\n",
    "\n",
    "  if \"nulo\" in line:\n",
    "\n",
    "    votes.append({\"voto\": \"nulo\", \"quantidade\": 1})\n",
    "\n",
    "  if \"nominal\" in line:\n",
    "\n",
    "    vote = re.findall(pattern=pattern, string=line)[0]\n",
    "    votes.append({\"voto\": f\"{vote}\", \"quantidade\": 1})"
   ]
  },
  {
   "cell_type": "code",
   "execution_count": null,
   "metadata": {
    "id": "XjXerw1QhhfK"
   },
   "outputs": [],
   "source": [
    "len(votes)"
   ]
  },
  {
   "cell_type": "code",
   "execution_count": null,
   "metadata": {
    "id": "-OaGwIXSjiBz"
   },
   "outputs": [],
   "source": [
    "for vote in votes[0:10]:\n",
    "  print(vote)"
   ]
  },
  {
   "cell_type": "markdown",
   "metadata": {
    "id": "9Vc1xfxBnpal"
   },
   "source": [
    "## 3\\. Processamento"
   ]
  },
  {
   "cell_type": "markdown",
   "metadata": {
    "id": "aYgj8tEKn3WV"
   },
   "source": [
    "Nesta aula vamos agregar os votos extraídos do arquivo RDV."
   ]
  },
  {
   "cell_type": "code",
   "execution_count": null,
   "metadata": {
    "id": "yvrLD_U8n4mh"
   },
   "outputs": [],
   "source": [
    "for vote in votes[0:10]:\n",
    "  print(vote)"
   ]
  },
  {
   "cell_type": "markdown",
   "metadata": {
    "id": "1FqEmBSNnj5v"
   },
   "source": [
    "### **3.1. Pandas**"
   ]
  },
  {
   "cell_type": "markdown",
   "metadata": {
    "id": "Ci6sgZpOjodO"
   },
   "source": [
    "Vamos utilizar o `Pandas`, o pacote **Python** mais utilizado para processamento de dados."
   ]
  },
  {
   "cell_type": "code",
   "execution_count": null,
   "metadata": {
    "id": "ATSOc5bNjrgA"
   },
   "outputs": [],
   "source": [
    "import pandas as pd"
   ]
  },
  {
   "cell_type": "markdown",
   "metadata": {
    "id": "e3ElPGw0rZ5f"
   },
   "source": [
    "### **3.2. DataFrame**"
   ]
  },
  {
   "cell_type": "markdown",
   "metadata": {
    "id": "stW_4PNKrhuX"
   },
   "source": [
    "A abstração base do `Pandas` é o `DataFrame`, uma estrutura de dados que representa uma tabela de duas dimensões."
   ]
  },
  {
   "cell_type": "code",
   "execution_count": null,
   "metadata": {
    "id": "w_ppM8GSjs8o"
   },
   "outputs": [],
   "source": [
    "votes_table = pd.DataFrame(votes)"
   ]
  },
  {
   "cell_type": "code",
   "execution_count": null,
   "metadata": {
    "id": "XrlA5BULjzE5"
   },
   "outputs": [],
   "source": [
    "votes_table.tail(n=30)"
   ]
  },
  {
   "cell_type": "code",
   "execution_count": null,
   "metadata": {
    "id": "7Swsri4Nj3F2"
   },
   "outputs": [],
   "source": [
    "votes_table.shape"
   ]
  },
  {
   "cell_type": "code",
   "execution_count": null,
   "metadata": {
    "id": "2qCTPCUBtdH1"
   },
   "outputs": [],
   "source": [
    "votes_table.to_csv(\"rdv.csv\", header=True, index=False)"
   ]
  },
  {
   "cell_type": "markdown",
   "metadata": {
    "id": "6poQ6YN7riqu"
   },
   "source": [
    "### **3.3. Agregação**"
   ]
  },
  {
   "cell_type": "markdown",
   "metadata": {
    "id": "ARISjCaFkQZX"
   },
   "source": [
    "Nesta etapa vamos agregagar os votos com uma operação matemática de soma."
   ]
  },
  {
   "cell_type": "code",
   "execution_count": null,
   "metadata": {
    "id": "gkEJzWmdj72o"
   },
   "outputs": [],
   "source": [
    "votes_table_agg = votes_table.groupby('voto').agg('sum').reset_index()"
   ]
  },
  {
   "cell_type": "code",
   "execution_count": null,
   "metadata": {
    "id": "dzeCL1gtkK2H"
   },
   "outputs": [],
   "source": [
    "votes_table_agg"
   ]
  },
  {
   "cell_type": "markdown",
   "metadata": {
    "id": "KCWacJbzkSc_"
   },
   "source": [
    "Nesta etapa vamos ordenar os dados agregados de forma decrescente, ou seja, da maior quantidade de votos para a menor."
   ]
  },
  {
   "cell_type": "code",
   "execution_count": null,
   "metadata": {
    "id": "J9t3nD4ukTQC"
   },
   "outputs": [],
   "source": [
    "votes_table_agg = votes_table_agg.sort_values(by='quantidade', ascending=False)"
   ]
  },
  {
   "cell_type": "code",
   "execution_count": null,
   "metadata": {
    "id": "mC7IT5eckdDI"
   },
   "outputs": [],
   "source": [
    "votes_table_agg"
   ]
  },
  {
   "cell_type": "markdown",
   "metadata": {
    "id": "MZ6CzHPTkg7X"
   },
   "source": [
    "Nesta etapa vamos adicionar uma coluna com os valores relativos percentuais da agregação dos dados."
   ]
  },
  {
   "cell_type": "code",
   "execution_count": null,
   "metadata": {
    "id": "MgSv8oWKkiH2"
   },
   "outputs": [],
   "source": [
    "votes_table_agg['quantidade_pct'] = round(100 * (votes_table_agg['quantidade'] / votes_table_agg['quantidade'].sum()), 2)"
   ]
  },
  {
   "cell_type": "code",
   "execution_count": null,
   "metadata": {
    "id": "lRxc6x1mlIGf"
   },
   "outputs": [],
   "source": [
    "votes_table_agg"
   ]
  },
  {
   "cell_type": "markdown",
   "metadata": {
    "id": "Yn0ButilmZOV"
   },
   "source": [
    "## 4\\. Visualização"
   ]
  },
  {
   "cell_type": "markdown",
   "metadata": {
    "id": "8ZmzZGzzlLJy"
   },
   "source": [
    "Nesta aula vamos visualizar os dados agregados."
   ]
  },
  {
   "cell_type": "code",
   "execution_count": null,
   "metadata": {
    "id": "upkG1XXUn9aw"
   },
   "outputs": [],
   "source": [
    "votes_table_agg"
   ]
  },
  {
   "cell_type": "markdown",
   "metadata": {
    "id": "jomWZQ4wnYh7"
   },
   "source": [
    "### **4.1. Seaborn**"
   ]
  },
  {
   "cell_type": "markdown",
   "metadata": {
    "id": "cggXsefznzxn"
   },
   "source": [
    "Vamos utilizar o `Seaborn`, um dos pacotes **Python** mais utilizado para visualização de dados."
   ]
  },
  {
   "cell_type": "code",
   "execution_count": null,
   "metadata": {
    "id": "pKTiZEq-lL-q"
   },
   "outputs": [],
   "source": [
    "import seaborn as sns"
   ]
  },
  {
   "cell_type": "code",
   "execution_count": null,
   "metadata": {
    "id": "PTMFZ1jjmkew"
   },
   "outputs": [],
   "source": [
    "URNA = \"Piracicaba/SP - 93 - 300\""
   ]
  },
  {
   "cell_type": "markdown",
   "metadata": {
    "id": "qCcZEvdIp3qX"
   },
   "source": [
    "Nesta primeira visualização, vamos observar a **quantidade de votos absolutos**."
   ]
  },
  {
   "cell_type": "code",
   "execution_count": null,
   "metadata": {
    "id": "1NndRl7Bq3yN"
   },
   "outputs": [],
   "source": [
    "x_column = 'voto'\n",
    "y_column = 'quantidade'"
   ]
  },
  {
   "cell_type": "code",
   "execution_count": null,
   "metadata": {
    "id": "4PHyn-SAq3yO"
   },
   "outputs": [],
   "source": [
    "title = f'Apuração Presidente - Segundo turno de 2022 - Urna {URNA}'\n",
    "x_lable = 'Voto'\n",
    "y_lable = 'Quantidade'"
   ]
  },
  {
   "cell_type": "code",
   "execution_count": null,
   "metadata": {
    "id": "1FkWOYQ0lWIi"
   },
   "outputs": [],
   "source": [
    "with sns.axes_style('whitegrid'):\n",
    "  chart = sns.barplot(data=votes_table_agg, x=x_column, y=y_column)\n",
    "  chart.set(title=title, xlabel=x_lable, ylabel=y_lable);"
   ]
  },
  {
   "cell_type": "markdown",
   "metadata": {
    "id": "C8SJN63Qp5FC"
   },
   "source": [
    "Nesta segunda visualização, vamos observar a **quantidade de votos relativos**."
   ]
  },
  {
   "cell_type": "code",
   "execution_count": null,
   "metadata": {
    "id": "iOXiDL_UqtnQ"
   },
   "outputs": [],
   "source": [
    "x_column = 'voto'\n",
    "y_column = 'quantidade_pct'"
   ]
  },
  {
   "cell_type": "code",
   "execution_count": null,
   "metadata": {
    "id": "aMy65iinqEHJ"
   },
   "outputs": [],
   "source": [
    "title = f'Apuração Presidente - Segundo turno de 2022 - Urna {URNA}'\n",
    "x_lable = 'Voto'\n",
    "y_lable = 'Quantidade (%)'"
   ]
  },
  {
   "cell_type": "code",
   "execution_count": null,
   "metadata": {
    "id": "2421F39nmDy4"
   },
   "outputs": [],
   "source": [
    "with sns.axes_style('whitegrid'):\n",
    "  chart = sns.barplot(data=votes_table_agg, x=x_column, y=y_column)\n",
    "  chart.set(title=title, xlabel=x_lable, ylabel=y_lable);"
   ]
  },
  {
   "cell_type": "markdown",
   "metadata": {
    "id": "6k-4cGE8mvep"
   },
   "source": [
    "## 5\\. Divulgação"
   ]
  },
  {
   "cell_type": "markdown",
   "metadata": {
    "id": "k_JoHgsBnVFX"
   },
   "source": [
    "Nesta aula vamos aprender a expor o nossa análise de dados."
   ]
  },
  {
   "cell_type": "markdown",
   "metadata": {
    "id": "s9IZBReZnNAi"
   },
   "source": [
    "### **5.1. Kaggle**"
   ]
  },
  {
   "cell_type": "markdown",
   "metadata": {
    "id": "xnsoZc_wI0sl"
   },
   "source": [
    "[Kaggle](https://www.kaggle.com/) é a maior comunidade online de ciência de dados e aprendizado de máquina. A plataforma permite que usuários encontrem e publiquem **conjuntos de dados**, construam e compartilhem **notebooks** (como este do Google Colab) e participem de **competições** (que pagam muito dinheiro as vezes). "
   ]
  },
  {
   "cell_type": "markdown",
   "metadata": {
    "id": "7BqRKqRGJ0i2"
   },
   "source": [
    "> Vamos publicar nosso **notebook** na plataforma web do Kaggle para que você possa compartilhar tudo o que você aprendeu nestas aulas e compor o seu portfólio."
   ]
  },
  {
   "cell_type": "markdown",
   "metadata": {
    "id": "X0YmFIsjEjRK"
   },
   "source": [
    " - Crie uma conta no Kaggle;\n",
    " - Faça o *download* do *notebook* do Google Colab;\n",
    " - Faça o *upload* do *notebook* no Kaggle."
   ]
  }
 ],
 "metadata": {
  "colab": {
   "provenance": [],
   "toc_visible": true
  },
  "kernelspec": {
   "display_name": "Python 3 (ipykernel)",
   "language": "python",
   "name": "python3"
  },
  "language_info": {
   "codemirror_mode": {
    "name": "ipython",
    "version": 3
   },
   "file_extension": ".py",
   "mimetype": "text/x-python",
   "name": "python",
   "nbconvert_exporter": "python",
   "pygments_lexer": "ipython3",
   "version": "3.9.13"
  }
 },
 "nbformat": 4,
 "nbformat_minor": 1
}
